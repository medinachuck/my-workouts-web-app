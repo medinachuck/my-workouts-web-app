{
 "cells": [
  {
   "cell_type": "code",
   "execution_count": 147,
   "metadata": {},
   "outputs": [],
   "source": [
    "#import dependencies \n",
    "import pandas as pd \n",
    "import requests \n",
    "import json\n",
    "import datetime\n",
    "import time "
   ]
  },
  {
   "cell_type": "code",
   "execution_count": 148,
   "metadata": {},
   "outputs": [],
   "source": [
    "#Find today's date\n",
    "today = datetime.datetime.now()\n",
    "#find the start and end of today in milliseconds\n",
    "start_today = int(today.replace(hour=0, minute=0, second=0, microsecond=0).timestamp()*1000)\n",
    "end_today = int(today.timestamp()*1000)"
   ]
  },
  {
   "cell_type": "code",
   "execution_count": 156,
   "metadata": {
    "scrolled": true
   },
   "outputs": [],
   "source": [
    "#Calculate the Start and End of the day for the previous 7 days\n",
    "#Infer the days of the week from the calculated dates\n",
    "#Puts all data in pandas dataframe 'lastweek'\n",
    "lastweeks_dates = [f'{today.isoformat()}']\n",
    "dt_dates = [today]\n",
    "start_times = [start_today]\n",
    "end_times = [end_today]\n",
    "thisdaystr=['Monday', 'Tuesday', 'Wednesday', 'Thursday', 'Friday', 'Saturday', 'Sunday']\n",
    "weekday_num =[today.weekday()]\n",
    "week_day = [thisdaystr[today.weekday()]]\n",
    "\n",
    "for n in range(1,8):\n",
    "    #get previous day(s) date isoformat\n",
    "    delta = datetime.timedelta(days=n)\n",
    "    previous_day = today - delta\n",
    "    date = previous_day.isoformat()\n",
    "    #get previous day(s) start time (milliseconds)\n",
    "    start_previous = int(previous_day.replace(hour=0, minute=0, second=0, microsecond=0).timestamp())*1000\n",
    "    #get previous day(s) end time (milliseconds)\n",
    "    end_previous = int(previous_day.replace(hour=23,minute=59, second=59, microsecond=999).timestamp())*1000\n",
    "    #get the day of the week \n",
    "    day_num = previous_day.weekday()\n",
    "    day_str = thisdaystr[day_num]\n",
    "    #append all calculated data\n",
    "    lastweeks_dates.append(date)\n",
    "    dt_dates.append(previous_day)\n",
    "    start_times.append(start_previous)\n",
    "    end_times.append(end_previous)\n",
    "    week_day.append(day_str)\n",
    "    weekday_num.append(day_num)\n",
    "    \n",
    "last_wks_dates = {\n",
    "    \"iso\": lastweeks_dates,\n",
    "    \"datetime\": dt_dates,\n",
    "    \"start\": start_times,\n",
    "    \"end\": end_times,\n",
    "    \"dayofweek\": week_day,\n",
    "    \"daynumber\": weekday_num\n",
    "}\n",
    "\n",
    "lastweek = pd.DataFrame(last_wks_dates)\n"
   ]
  },
  {
   "cell_type": "code",
   "execution_count": 157,
   "metadata": {
    "scrolled": true
   },
   "outputs": [
    {
     "data": {
      "text/html": [
       "<div>\n",
       "<style scoped>\n",
       "    .dataframe tbody tr th:only-of-type {\n",
       "        vertical-align: middle;\n",
       "    }\n",
       "\n",
       "    .dataframe tbody tr th {\n",
       "        vertical-align: top;\n",
       "    }\n",
       "\n",
       "    .dataframe thead th {\n",
       "        text-align: right;\n",
       "    }\n",
       "</style>\n",
       "<table border=\"1\" class=\"dataframe\">\n",
       "  <thead>\n",
       "    <tr style=\"text-align: right;\">\n",
       "      <th></th>\n",
       "      <th>iso</th>\n",
       "      <th>datetime</th>\n",
       "      <th>start</th>\n",
       "      <th>end</th>\n",
       "      <th>dayofweek</th>\n",
       "      <th>daynumber</th>\n",
       "    </tr>\n",
       "  </thead>\n",
       "  <tbody>\n",
       "    <tr>\n",
       "      <th>0</th>\n",
       "      <td>2021-05-10T18:47:35.248581</td>\n",
       "      <td>2021-05-10 18:47:35.248581</td>\n",
       "      <td>1620630000000</td>\n",
       "      <td>1620697655248</td>\n",
       "      <td>Monday</td>\n",
       "      <td>0</td>\n",
       "    </tr>\n",
       "    <tr>\n",
       "      <th>1</th>\n",
       "      <td>2021-05-09T18:47:35.248581</td>\n",
       "      <td>2021-05-09 18:47:35.248581</td>\n",
       "      <td>1620543600000</td>\n",
       "      <td>1620629999000</td>\n",
       "      <td>Sunday</td>\n",
       "      <td>6</td>\n",
       "    </tr>\n",
       "    <tr>\n",
       "      <th>2</th>\n",
       "      <td>2021-05-08T18:47:35.248581</td>\n",
       "      <td>2021-05-08 18:47:35.248581</td>\n",
       "      <td>1620457200000</td>\n",
       "      <td>1620543599000</td>\n",
       "      <td>Saturday</td>\n",
       "      <td>5</td>\n",
       "    </tr>\n",
       "    <tr>\n",
       "      <th>3</th>\n",
       "      <td>2021-05-07T18:47:35.248581</td>\n",
       "      <td>2021-05-07 18:47:35.248581</td>\n",
       "      <td>1620370800000</td>\n",
       "      <td>1620457199000</td>\n",
       "      <td>Friday</td>\n",
       "      <td>4</td>\n",
       "    </tr>\n",
       "    <tr>\n",
       "      <th>4</th>\n",
       "      <td>2021-05-06T18:47:35.248581</td>\n",
       "      <td>2021-05-06 18:47:35.248581</td>\n",
       "      <td>1620284400000</td>\n",
       "      <td>1620370799000</td>\n",
       "      <td>Thursday</td>\n",
       "      <td>3</td>\n",
       "    </tr>\n",
       "    <tr>\n",
       "      <th>5</th>\n",
       "      <td>2021-05-05T18:47:35.248581</td>\n",
       "      <td>2021-05-05 18:47:35.248581</td>\n",
       "      <td>1620198000000</td>\n",
       "      <td>1620284399000</td>\n",
       "      <td>Wednesday</td>\n",
       "      <td>2</td>\n",
       "    </tr>\n",
       "    <tr>\n",
       "      <th>6</th>\n",
       "      <td>2021-05-04T18:47:35.248581</td>\n",
       "      <td>2021-05-04 18:47:35.248581</td>\n",
       "      <td>1620111600000</td>\n",
       "      <td>1620197999000</td>\n",
       "      <td>Tuesday</td>\n",
       "      <td>1</td>\n",
       "    </tr>\n",
       "    <tr>\n",
       "      <th>7</th>\n",
       "      <td>2021-05-03T18:47:35.248581</td>\n",
       "      <td>2021-05-03 18:47:35.248581</td>\n",
       "      <td>1620025200000</td>\n",
       "      <td>1620111599000</td>\n",
       "      <td>Monday</td>\n",
       "      <td>0</td>\n",
       "    </tr>\n",
       "  </tbody>\n",
       "</table>\n",
       "</div>"
      ],
      "text/plain": [
       "                          iso                   datetime          start  \\\n",
       "0  2021-05-10T18:47:35.248581 2021-05-10 18:47:35.248581  1620630000000   \n",
       "1  2021-05-09T18:47:35.248581 2021-05-09 18:47:35.248581  1620543600000   \n",
       "2  2021-05-08T18:47:35.248581 2021-05-08 18:47:35.248581  1620457200000   \n",
       "3  2021-05-07T18:47:35.248581 2021-05-07 18:47:35.248581  1620370800000   \n",
       "4  2021-05-06T18:47:35.248581 2021-05-06 18:47:35.248581  1620284400000   \n",
       "5  2021-05-05T18:47:35.248581 2021-05-05 18:47:35.248581  1620198000000   \n",
       "6  2021-05-04T18:47:35.248581 2021-05-04 18:47:35.248581  1620111600000   \n",
       "7  2021-05-03T18:47:35.248581 2021-05-03 18:47:35.248581  1620025200000   \n",
       "\n",
       "             end  dayofweek  daynumber  \n",
       "0  1620697655248     Monday          0  \n",
       "1  1620629999000     Sunday          6  \n",
       "2  1620543599000   Saturday          5  \n",
       "3  1620457199000     Friday          4  \n",
       "4  1620370799000   Thursday          3  \n",
       "5  1620284399000  Wednesday          2  \n",
       "6  1620197999000    Tuesday          1  \n",
       "7  1620111599000     Monday          0  "
      ]
     },
     "execution_count": 157,
     "metadata": {},
     "output_type": "execute_result"
    }
   ],
   "source": [
    "lastweek"
   ]
  },
  {
   "cell_type": "code",
   "execution_count": 151,
   "metadata": {
    "scrolled": true
   },
   "outputs": [
    {
     "name": "stdout",
     "output_type": "stream",
     "text": [
      "[11241, 4733, 10917, 5423, 10819, 10041, 17060, 16894]\n"
     ]
    }
   ],
   "source": [
    "#build a query for today's data \n",
    "UID = \"me\"\n",
    "OAUTH_TOKEN=\"ya29.a0AfH6SMDcIQvu9DkucaB0NCLXWv63Gjxrr1_TMK58BAroNbyhFayP3pFAWuzxr8zJ40pwUEBSMksFmF2MwOAPqhqjEyWb6vKg4JPf-iMjOLkQ46r89p-P5jw07Zg_jBZS6MTeK01G4XHEG86f1ctnI5VeEruIGA\"\n",
    "url = f'https://www.googleapis.com/fitness/v1/users/me/dataset:aggregate'\n",
    "\n",
    "headers = { 'content-type': 'application/json',\n",
    "            'Authorization': 'Bearer %s' % OAUTH_TOKEN}\n",
    "total_steps=[]\n",
    "for i in range(0,8):\n",
    "    request_body={\n",
    "        \"aggregateBy\": [{\n",
    "            \"dataSourceId\":\"derived:com.google.step_count.delta:com.google.android.gms:estimated_steps\"}],\n",
    "        \"bucketByTime\": { \"durationMillis\": 86400000 },\n",
    "        \"startTimeMillis\": str(lastweek['start'][i]),\n",
    "        \"endTimeMillis\": str(lastweek['end'][i])}\n",
    "    r = requests.post(url, headers=headers, json=request_body)\n",
    "    response = r.json()\n",
    "    #extract daily number of the steps\n",
    "    steps = response['bucket'][0]['dataset'][0]['point'][0]['value'][0]['intVal']\n",
    "    total_steps.append(steps)\n",
    "    \n",
    "print(total_steps)"
   ]
  },
  {
   "cell_type": "code",
   "execution_count": 158,
   "metadata": {},
   "outputs": [
    {
     "data": {
      "text/html": [
       "<div>\n",
       "<style scoped>\n",
       "    .dataframe tbody tr th:only-of-type {\n",
       "        vertical-align: middle;\n",
       "    }\n",
       "\n",
       "    .dataframe tbody tr th {\n",
       "        vertical-align: top;\n",
       "    }\n",
       "\n",
       "    .dataframe thead th {\n",
       "        text-align: right;\n",
       "    }\n",
       "</style>\n",
       "<table border=\"1\" class=\"dataframe\">\n",
       "  <thead>\n",
       "    <tr style=\"text-align: right;\">\n",
       "      <th></th>\n",
       "      <th>iso</th>\n",
       "      <th>datetime</th>\n",
       "      <th>start</th>\n",
       "      <th>end</th>\n",
       "      <th>dayofweek</th>\n",
       "      <th>daynumber</th>\n",
       "    </tr>\n",
       "  </thead>\n",
       "  <tbody>\n",
       "    <tr>\n",
       "      <th>0</th>\n",
       "      <td>2021-05-10T18:47:35.248581</td>\n",
       "      <td>2021-05-10 18:47:35.248581</td>\n",
       "      <td>1620630000000</td>\n",
       "      <td>1620697655248</td>\n",
       "      <td>Monday</td>\n",
       "      <td>0</td>\n",
       "    </tr>\n",
       "    <tr>\n",
       "      <th>1</th>\n",
       "      <td>2021-05-09T18:47:35.248581</td>\n",
       "      <td>2021-05-09 18:47:35.248581</td>\n",
       "      <td>1620543600000</td>\n",
       "      <td>1620629999000</td>\n",
       "      <td>Sunday</td>\n",
       "      <td>6</td>\n",
       "    </tr>\n",
       "    <tr>\n",
       "      <th>2</th>\n",
       "      <td>2021-05-08T18:47:35.248581</td>\n",
       "      <td>2021-05-08 18:47:35.248581</td>\n",
       "      <td>1620457200000</td>\n",
       "      <td>1620543599000</td>\n",
       "      <td>Saturday</td>\n",
       "      <td>5</td>\n",
       "    </tr>\n",
       "    <tr>\n",
       "      <th>3</th>\n",
       "      <td>2021-05-07T18:47:35.248581</td>\n",
       "      <td>2021-05-07 18:47:35.248581</td>\n",
       "      <td>1620370800000</td>\n",
       "      <td>1620457199000</td>\n",
       "      <td>Friday</td>\n",
       "      <td>4</td>\n",
       "    </tr>\n",
       "    <tr>\n",
       "      <th>4</th>\n",
       "      <td>2021-05-06T18:47:35.248581</td>\n",
       "      <td>2021-05-06 18:47:35.248581</td>\n",
       "      <td>1620284400000</td>\n",
       "      <td>1620370799000</td>\n",
       "      <td>Thursday</td>\n",
       "      <td>3</td>\n",
       "    </tr>\n",
       "    <tr>\n",
       "      <th>5</th>\n",
       "      <td>2021-05-05T18:47:35.248581</td>\n",
       "      <td>2021-05-05 18:47:35.248581</td>\n",
       "      <td>1620198000000</td>\n",
       "      <td>1620284399000</td>\n",
       "      <td>Wednesday</td>\n",
       "      <td>2</td>\n",
       "    </tr>\n",
       "    <tr>\n",
       "      <th>6</th>\n",
       "      <td>2021-05-04T18:47:35.248581</td>\n",
       "      <td>2021-05-04 18:47:35.248581</td>\n",
       "      <td>1620111600000</td>\n",
       "      <td>1620197999000</td>\n",
       "      <td>Tuesday</td>\n",
       "      <td>1</td>\n",
       "    </tr>\n",
       "    <tr>\n",
       "      <th>7</th>\n",
       "      <td>2021-05-03T18:47:35.248581</td>\n",
       "      <td>2021-05-03 18:47:35.248581</td>\n",
       "      <td>1620025200000</td>\n",
       "      <td>1620111599000</td>\n",
       "      <td>Monday</td>\n",
       "      <td>0</td>\n",
       "    </tr>\n",
       "  </tbody>\n",
       "</table>\n",
       "</div>"
      ],
      "text/plain": [
       "                          iso                   datetime          start  \\\n",
       "0  2021-05-10T18:47:35.248581 2021-05-10 18:47:35.248581  1620630000000   \n",
       "1  2021-05-09T18:47:35.248581 2021-05-09 18:47:35.248581  1620543600000   \n",
       "2  2021-05-08T18:47:35.248581 2021-05-08 18:47:35.248581  1620457200000   \n",
       "3  2021-05-07T18:47:35.248581 2021-05-07 18:47:35.248581  1620370800000   \n",
       "4  2021-05-06T18:47:35.248581 2021-05-06 18:47:35.248581  1620284400000   \n",
       "5  2021-05-05T18:47:35.248581 2021-05-05 18:47:35.248581  1620198000000   \n",
       "6  2021-05-04T18:47:35.248581 2021-05-04 18:47:35.248581  1620111600000   \n",
       "7  2021-05-03T18:47:35.248581 2021-05-03 18:47:35.248581  1620025200000   \n",
       "\n",
       "             end  dayofweek  daynumber  \n",
       "0  1620697655248     Monday          0  \n",
       "1  1620629999000     Sunday          6  \n",
       "2  1620543599000   Saturday          5  \n",
       "3  1620457199000     Friday          4  \n",
       "4  1620370799000   Thursday          3  \n",
       "5  1620284399000  Wednesday          2  \n",
       "6  1620197999000    Tuesday          1  \n",
       "7  1620111599000     Monday          0  "
      ]
     },
     "execution_count": 158,
     "metadata": {},
     "output_type": "execute_result"
    }
   ],
   "source": [
    "lastweek"
   ]
  },
  {
   "cell_type": "code",
   "execution_count": 155,
   "metadata": {},
   "outputs": [],
   "source": [
    "lastweek"
   ]
  },
  {
   "cell_type": "code",
   "execution_count": 101,
   "metadata": {
    "scrolled": true
   },
   "outputs": [],
   "source": [
    "response = r.json()"
   ]
  },
  {
   "cell_type": "code",
   "execution_count": 122,
   "metadata": {},
   "outputs": [
    {
     "data": {
      "text/plain": [
       "11218"
      ]
     },
     "execution_count": 122,
     "metadata": {},
     "output_type": "execute_result"
    }
   ],
   "source": [
    "steps = response['bucket'][0]['dataset'][0]['point'][0]['value'][0]['intVal']"
   ]
  },
  {
   "cell_type": "code",
   "execution_count": null,
   "metadata": {},
   "outputs": [],
   "source": [
    "#get the current week's date and time range \n",
    "today = datetime.date.today()\n",
    "weekday = today.weekday()\n",
    "start_delta = datetime.timedelta(days=weekday)\n",
    "start_of_week = today - start_delta\n",
    "week_dates = []\n",
    "for day in range(7):\n",
    "    week_dates.append(start_of_week + datetime.timedelta(days=day))\n",
    "    \n",
    "week_dates\n",
    "[datetime.date(2013, 10, 28), datetime.date(2013, 10, 29), datetime.date(2013, 10, 30),     datetime.date(2013, 10, 31), datetime.date(2013, 11, 1), datetime.date(2013, 11, 2), datetime.date(2013, 11, 3)]\n",
    ">>> week_dates[0], week_dates[-1]\n",
    "(datetime.date(2013, 10, 28), datetime.date(2013, 11, 3)) <--- Monday, Sunday"
   ]
  },
  {
   "cell_type": "code",
   "execution_count": 2,
   "metadata": {},
   "outputs": [
    {
     "ename": "SyntaxError",
     "evalue": "invalid syntax (<ipython-input-2-9092b85e3037>, line 4)",
     "output_type": "error",
     "traceback": [
      "\u001b[1;36m  File \u001b[1;32m\"<ipython-input-2-9092b85e3037>\"\u001b[1;36m, line \u001b[1;32m4\u001b[0m\n\u001b[1;33m    \"dataType\": {\u001b[0m\n\u001b[1;37m    ^\u001b[0m\n\u001b[1;31mSyntaxError\u001b[0m\u001b[1;31m:\u001b[0m invalid syntax\n"
     ]
    }
   ],
   "source": [
    "{\n",
    "\"dataStreamId\": \"exampleDataSourceId\",\n",
    "...\n",
    "\"dataType\": {\n",
    "  \"name\": \"com.google.step_count.delta\"\n",
    "}"
   ]
  },
  {
   "cell_type": "code",
   "execution_count": 62,
   "metadata": {},
   "outputs": [
    {
     "name": "stdout",
     "output_type": "stream",
     "text": [
      "200\n",
      "b'{\\n  \"session\": [\\n    {\\n      \"id\": \"0c07232b8ac4d889:watch-activemode:walking:1619826808774\",\\n      \"name\": \"Afternoon walk\",\\n      \"description\": \"\",\\n      \"startTimeMillis\": \"1619826808774\",\\n      \"endTimeMillis\": \"1619834454289\",\\n      \"modifiedTimeMillis\": \"1619835997396\",\\n      \"application\": {\\n        \"packageName\": \"com.google.android.apps.fitness\"\\n      },\\n      \"activityType\": 7\\n    },\\n    {\\n      \"id\": \"0c07232b8ac4d889:watch-activemode:running.treadmill:1619910321870\",\\n      \"name\": \"Afternoon treadmill run\",\\n      \"description\": \"\",\\n      \"startTimeMillis\": \"1619910321870\",\\n      \"endTimeMillis\": \"1619911861538\",\\n      \"modifiedTimeMillis\": \"1619915135560\",\\n      \"application\": {\\n        \"packageName\": \"com.google.android.apps.fitness\"\\n      },\\n      \"activityType\": 58\\n    },\\n    {\\n      \"id\": \"3b9e44d711382023:watch-activemode:walking.treadmill:1620068894525\",\\n      \"name\": \"Lunch treadmill walk\",\\n      \"description\": \"\",\\n      \"startTimeMillis\": \"1620068894525\",\\n      \"endTimeMillis\": \"1620070320832\",\\n      \"modifiedTimeMillis\": \"1620073438177\",\\n      \"application\": {\\n        \"packageName\": \"com.google.android.apps.fitness\"\\n      },\\n      \"activityType\": 95\\n    },\\n    {\\n      \"id\": \"3b9e44d711382023:watch-activemode:walking:1620086371697\",\\n      \"name\": \"Afternoon walk\",\\n      \"description\": \"\",\\n      \"startTimeMillis\": \"1620086371697\",\\n      \"endTimeMillis\": \"1620090651738\",\\n      \"modifiedTimeMillis\": \"1620094709923\",\\n      \"application\": {\\n        \"packageName\": \"com.google.android.apps.fitness\"\\n      },\\n      \"activityType\": 7\\n    },\\n    {\\n      \"id\": \"3b9e44d711382023:watch-activemode:hiking:1620149741544\",\\n      \"name\": \"Morning hike\",\\n      \"description\": \"\",\\n      \"startTimeMillis\": \"1620149741544\",\\n      \"endTimeMillis\": \"1620152860915\",\\n      \"modifiedTimeMillis\": \"1620159756492\",\\n      \"application\": {\\n        \"packageName\": \"com.google.android.apps.fitness\"\\n      },\\n      \"activityType\": 35\\n    },\\n    {\\n      \"id\": \"13f43919-7cc0-492a-ab10-f3c021e7195e\",\\n      \"name\": \"walk stretch\",\\n      \"description\": \"\",\\n      \"startTimeMillis\": \"1620234000000\",\\n      \"endTimeMillis\": \"1620237600000\",\\n      \"modifiedTimeMillis\": \"1620240516693\",\\n      \"application\": {\\n        \"packageName\": \"com.google.android.apps.fitness\"\\n      },\\n      \"activityType\": 93\\n    }\\n  ],\\n  \"deletedSession\": []\\n}\\n'\n"
     ]
    }
   ],
   "source": [
    "UID = \"me\"\n",
    "OAUTH_TOKEN=\"ya29.a0AfH6SMDAECMGpLmvKHBq-cIBAbmjY_xL8Z9eJiYtJvLt45Fe_f2BbZiIieE5lmhAsdttmnT6IfsiotT3O4UlIz9sQEDpyVPN6HyeClB_BNXaJ9vrX5UWCvkmohCEXFc8mjW6ZCU_fHFNKRYvB88zk_5ZmVnvJQ\"\n",
    "url = f'https://www.googleapis.com/fitness/v1/users/me/sessions'\n",
    "\n",
    "headers = { 'content-type': 'application/json',\n",
    "            'Authorization': 'Bearer %s' % OAUTH_TOKEN}\n",
    "request_body={\"startTime\":\"2021-05-01T00:00:00.000Z\",\n",
    "              \"endTime\":\"2021-05-30T00:00:00.000Z\"\n",
    "}\n",
    "\n",
    "r = requests.get(url, headers=headers, params=request_body)\n",
    "\n",
    "print(r.status_code)\n",
    "print(r.content)"
   ]
  },
  {
   "cell_type": "code",
   "execution_count": 63,
   "metadata": {
    "scrolled": true
   },
   "outputs": [],
   "source": [
    "response = r.json()"
   ]
  },
  {
   "cell_type": "code",
   "execution_count": 64,
   "metadata": {},
   "outputs": [
    {
     "data": {
      "text/plain": [
       "dict_keys(['session', 'deletedSession'])"
      ]
     },
     "execution_count": 64,
     "metadata": {},
     "output_type": "execute_result"
    }
   ],
   "source": [
    "response.keys()"
   ]
  },
  {
   "cell_type": "code",
   "execution_count": 65,
   "metadata": {},
   "outputs": [
    {
     "data": {
      "text/plain": [
       "[{'id': '0c07232b8ac4d889:watch-activemode:walking:1619826808774',\n",
       "  'name': 'Afternoon walk',\n",
       "  'description': '',\n",
       "  'startTimeMillis': '1619826808774',\n",
       "  'endTimeMillis': '1619834454289',\n",
       "  'modifiedTimeMillis': '1619835997396',\n",
       "  'application': {'packageName': 'com.google.android.apps.fitness'},\n",
       "  'activityType': 7},\n",
       " {'id': '0c07232b8ac4d889:watch-activemode:running.treadmill:1619910321870',\n",
       "  'name': 'Afternoon treadmill run',\n",
       "  'description': '',\n",
       "  'startTimeMillis': '1619910321870',\n",
       "  'endTimeMillis': '1619911861538',\n",
       "  'modifiedTimeMillis': '1619915135560',\n",
       "  'application': {'packageName': 'com.google.android.apps.fitness'},\n",
       "  'activityType': 58},\n",
       " {'id': '3b9e44d711382023:watch-activemode:walking.treadmill:1620068894525',\n",
       "  'name': 'Lunch treadmill walk',\n",
       "  'description': '',\n",
       "  'startTimeMillis': '1620068894525',\n",
       "  'endTimeMillis': '1620070320832',\n",
       "  'modifiedTimeMillis': '1620073438177',\n",
       "  'application': {'packageName': 'com.google.android.apps.fitness'},\n",
       "  'activityType': 95},\n",
       " {'id': '3b9e44d711382023:watch-activemode:walking:1620086371697',\n",
       "  'name': 'Afternoon walk',\n",
       "  'description': '',\n",
       "  'startTimeMillis': '1620086371697',\n",
       "  'endTimeMillis': '1620090651738',\n",
       "  'modifiedTimeMillis': '1620094709923',\n",
       "  'application': {'packageName': 'com.google.android.apps.fitness'},\n",
       "  'activityType': 7},\n",
       " {'id': '3b9e44d711382023:watch-activemode:hiking:1620149741544',\n",
       "  'name': 'Morning hike',\n",
       "  'description': '',\n",
       "  'startTimeMillis': '1620149741544',\n",
       "  'endTimeMillis': '1620152860915',\n",
       "  'modifiedTimeMillis': '1620159756492',\n",
       "  'application': {'packageName': 'com.google.android.apps.fitness'},\n",
       "  'activityType': 35},\n",
       " {'id': '13f43919-7cc0-492a-ab10-f3c021e7195e',\n",
       "  'name': 'walk stretch',\n",
       "  'description': '',\n",
       "  'startTimeMillis': '1620234000000',\n",
       "  'endTimeMillis': '1620237600000',\n",
       "  'modifiedTimeMillis': '1620240516693',\n",
       "  'application': {'packageName': 'com.google.android.apps.fitness'},\n",
       "  'activityType': 93}]"
      ]
     },
     "execution_count": 65,
     "metadata": {},
     "output_type": "execute_result"
    }
   ],
   "source": [
    "response['session']"
   ]
  },
  {
   "cell_type": "code",
   "execution_count": 69,
   "metadata": {
    "scrolled": true
   },
   "outputs": [
    {
     "name": "stdout",
     "output_type": "stream",
     "text": [
      "200\n",
      "b'{\\n  \"session\": [\\n    {\\n      \"id\": \"9079c8f1c15cd125:activemode:walking.fitness:1618241849733\",\\n      \"name\": \"Morning fitness walk\",\\n      \"description\": \"\",\\n      \"startTimeMillis\": \"1618241849757\",\\n      \"endTimeMillis\": \"1618245502437\",\\n      \"modifiedTimeMillis\": \"1618256076177\",\\n      \"application\": {\\n        \"packageName\": \"com.google.android.apps.fitness\"\\n      },\\n      \"activityType\": 93\\n    },\\n    {\\n      \"id\": \"0c07232b8ac4d889:watch-activemode:running.treadmill:1619718703608\",\\n      \"name\": \"Morning treadmill run\",\\n      \"description\": \"\",\\n      \"startTimeMillis\": \"1619718703608\",\\n      \"endTimeMillis\": \"1619720707208\",\\n      \"modifiedTimeMillis\": \"1619754049928\",\\n      \"application\": {\\n        \"packageName\": \"com.google.android.apps.fitness\"\\n      },\\n      \"activityType\": 58\\n    },\\n    {\\n      \"id\": \"13f43919-7cc0-492a-ab10-f3c021e7195e\",\\n      \"name\": \"walk stretch\",\\n      \"description\": \"\",\\n      \"startTimeMillis\": \"1620234000000\",\\n      \"endTimeMillis\": \"1620237600000\",\\n      \"modifiedTimeMillis\": \"1620240516693\",\\n      \"application\": {\\n        \"packageName\": \"com.google.android.apps.fitness\"\\n      },\\n      \"activityType\": 93\\n    },\\n    {\\n      \"id\": \"0c07232b8ac4d889:watch-activemode:walking:1618500366168\",\\n      \"name\": \"Morning walk\",\\n      \"description\": \"\",\\n      \"startTimeMillis\": \"1618500366168\",\\n      \"endTimeMillis\": \"1618504620394\",\\n      \"modifiedTimeMillis\": \"1618521733280\",\\n      \"application\": {\\n        \"packageName\": \"com.google.android.apps.fitness\"\\n      },\\n      \"activityType\": 7\\n    },\\n    {\\n      \"id\": \"0c07232b8ac4d889:watch-activemode:running.treadmill:1619910321870\",\\n      \"name\": \"Afternoon treadmill run\",\\n      \"description\": \"\",\\n      \"startTimeMillis\": \"1619910321870\",\\n      \"endTimeMillis\": \"1619911861538\",\\n      \"modifiedTimeMillis\": \"1619915135560\",\\n      \"application\": {\\n        \"packageName\": \"com.google.android.apps.fitness\"\\n      },\\n      \"activityType\": 58\\n    },\\n    {\\n      \"id\": \"0c07232b8ac4d889:watch-activemode:walking.treadmill:1619455574622\",\\n      \"name\": \"Morning treadmill walk\",\\n      \"description\": \"\",\\n      \"startTimeMillis\": \"1619455574622\",\\n      \"endTimeMillis\": \"1619456616451\",\\n      \"modifiedTimeMillis\": \"1619500403653\",\\n      \"application\": {\\n        \"packageName\": \"com.google.android.apps.fitness\"\\n      },\\n      \"activityType\": 95\\n    },\\n    {\\n      \"id\": \"0c07232b8ac4d889:watch-activemode:calisthenics:1619451583829\",\\n      \"name\": \"Morning calisthenics\",\\n      \"description\": \"\",\\n      \"startTimeMillis\": \"1619451583829\",\\n      \"endTimeMillis\": \"1619453549550\",\\n      \"modifiedTimeMillis\": \"1619455677398\",\\n      \"application\": {\\n        \"packageName\": \"com.google.android.apps.fitness\"\\n      },\\n      \"activityType\": 21\\n    },\\n    {\\n      \"id\": \"0c07232b8ac4d889:watch-activemode:walking:1619826808774\",\\n      \"name\": \"Afternoon walk\",\\n      \"description\": \"\",\\n      \"startTimeMillis\": \"1619826808774\",\\n      \"endTimeMillis\": \"1619834454289\",\\n      \"modifiedTimeMillis\": \"1619835997396\",\\n      \"application\": {\\n        \"packageName\": \"com.google.android.apps.fitness\"\\n      },\\n      \"activityType\": 7\\n    },\\n    {\\n      \"id\": \"3b9e44d711382023:watch-activemode:walking.treadmill:1620068894525\",\\n      \"name\": \"Lunch treadmill walk\",\\n      \"description\": \"\",\\n      \"startTimeMillis\": \"1620068894525\",\\n      \"endTimeMillis\": \"1620070320832\",\\n      \"modifiedTimeMillis\": \"1620073438177\",\\n      \"application\": {\\n        \"packageName\": \"com.google.android.apps.fitness\"\\n      },\\n      \"activityType\": 95\\n    },\\n    {\\n      \"id\": \"3b9e44d711382023:watch-activemode:hiking:1620149741544\",\\n      \"name\": \"Morning hike\",\\n      \"description\": \"\",\\n      \"startTimeMillis\": \"1620149741544\",\\n      \"endTimeMillis\": \"1620152860915\",\\n      \"modifiedTimeMillis\": \"1620159756492\",\\n      \"application\": {\\n        \"packageName\": \"com.google.android.apps.fitness\"\\n      },\\n      \"activityType\": 35\\n    },\\n    {\\n      \"id\": \"3b9e44d711382023:watch-activemode:walking:1620086371697\",\\n      \"name\": \"Afternoon walk\",\\n      \"description\": \"\",\\n      \"startTimeMillis\": \"1620086371697\",\\n      \"endTimeMillis\": \"1620090651738\",\\n      \"modifiedTimeMillis\": \"1620094709923\",\\n      \"application\": {\\n        \"packageName\": \"com.google.android.apps.fitness\"\\n      },\\n      \"activityType\": 7\\n    },\\n    {\\n      \"id\": \"3b9e44d711382023:watch-activemode:elliptical:1620317842456\",\\n      \"name\": \"Morning elliptical\",\\n      \"description\": \"\",\\n      \"startTimeMillis\": \"1620317842456\",\\n      \"endTimeMillis\": \"1620319460099\",\\n      \"modifiedTimeMillis\": \"1620332776290\",\\n      \"application\": {\\n        \"packageName\": \"com.google.android.apps.fitness\"\\n      },\\n      \"activityType\": 25\\n    }\\n  ],\\n  \"deletedSession\": [],\\n  \"nextPageToken\": \"XmNhoceI9yZx2IjnBjBz\"\\n}\\n'\n"
     ]
    }
   ],
   "source": [
    "#List sessions from a certain date range \n",
    "UID = \"me\"\n",
    "OAUTH_TOKEN=\"ya29.a0AfH6SMDaKLr0cqu-AMoL9C7YzsBG89QaTNhC5zVO6sKtjv2BUCfMR920BmYfFHis0crxJj8xWLLbe3KjIRO5WdpVPLpi5eoXx3Wvu3G9H1b6BTgZ6ErJ6vp9Iqyfku2DP_BkTEJOvmNrzWxYOXi4oVSHX_N2Qw\"\n",
    "url = f'https://www.googleapis.com/fitness/v1/users/me/sessions'\n",
    "\n",
    "headers = { 'content-type': 'application/json',\n",
    "            'Authorization': 'Bearer %s' % OAUTH_TOKEN}\n",
    "\n",
    "request_body={\n",
    "    \"startTime\":\"2021-05-02T00:00:00.000Z\",\n",
    "    \"endTime\":\"2021-05-08T23:59:59.999Z\"\n",
    "}\n",
    "\n",
    "r = requests.get(url, headers=headers)\n",
    "\n",
    "print(r.status_code)\n",
    "print(r.content)"
   ]
  },
  {
   "cell_type": "code",
   "execution_count": 70,
   "metadata": {
    "scrolled": true
   },
   "outputs": [
    {
     "name": "stdout",
     "output_type": "stream",
     "text": [
      "dict_keys(['session', 'deletedSession', 'nextPageToken'])\n"
     ]
    }
   ],
   "source": [
    "last_week = r.json() \n",
    "print(last_week.keys())"
   ]
  },
  {
   "cell_type": "code",
   "execution_count": 71,
   "metadata": {
    "scrolled": true
   },
   "outputs": [
    {
     "data": {
      "text/plain": [
       "{'session': [{'id': '9079c8f1c15cd125:activemode:walking.fitness:1618241849733',\n",
       "   'name': 'Morning fitness walk',\n",
       "   'description': '',\n",
       "   'startTimeMillis': '1618241849757',\n",
       "   'endTimeMillis': '1618245502437',\n",
       "   'modifiedTimeMillis': '1618256076177',\n",
       "   'application': {'packageName': 'com.google.android.apps.fitness'},\n",
       "   'activityType': 93},\n",
       "  {'id': '0c07232b8ac4d889:watch-activemode:running.treadmill:1619718703608',\n",
       "   'name': 'Morning treadmill run',\n",
       "   'description': '',\n",
       "   'startTimeMillis': '1619718703608',\n",
       "   'endTimeMillis': '1619720707208',\n",
       "   'modifiedTimeMillis': '1619754049928',\n",
       "   'application': {'packageName': 'com.google.android.apps.fitness'},\n",
       "   'activityType': 58},\n",
       "  {'id': '13f43919-7cc0-492a-ab10-f3c021e7195e',\n",
       "   'name': 'walk stretch',\n",
       "   'description': '',\n",
       "   'startTimeMillis': '1620234000000',\n",
       "   'endTimeMillis': '1620237600000',\n",
       "   'modifiedTimeMillis': '1620240516693',\n",
       "   'application': {'packageName': 'com.google.android.apps.fitness'},\n",
       "   'activityType': 93},\n",
       "  {'id': '0c07232b8ac4d889:watch-activemode:walking:1618500366168',\n",
       "   'name': 'Morning walk',\n",
       "   'description': '',\n",
       "   'startTimeMillis': '1618500366168',\n",
       "   'endTimeMillis': '1618504620394',\n",
       "   'modifiedTimeMillis': '1618521733280',\n",
       "   'application': {'packageName': 'com.google.android.apps.fitness'},\n",
       "   'activityType': 7},\n",
       "  {'id': '0c07232b8ac4d889:watch-activemode:running.treadmill:1619910321870',\n",
       "   'name': 'Afternoon treadmill run',\n",
       "   'description': '',\n",
       "   'startTimeMillis': '1619910321870',\n",
       "   'endTimeMillis': '1619911861538',\n",
       "   'modifiedTimeMillis': '1619915135560',\n",
       "   'application': {'packageName': 'com.google.android.apps.fitness'},\n",
       "   'activityType': 58},\n",
       "  {'id': '0c07232b8ac4d889:watch-activemode:walking.treadmill:1619455574622',\n",
       "   'name': 'Morning treadmill walk',\n",
       "   'description': '',\n",
       "   'startTimeMillis': '1619455574622',\n",
       "   'endTimeMillis': '1619456616451',\n",
       "   'modifiedTimeMillis': '1619500403653',\n",
       "   'application': {'packageName': 'com.google.android.apps.fitness'},\n",
       "   'activityType': 95},\n",
       "  {'id': '0c07232b8ac4d889:watch-activemode:calisthenics:1619451583829',\n",
       "   'name': 'Morning calisthenics',\n",
       "   'description': '',\n",
       "   'startTimeMillis': '1619451583829',\n",
       "   'endTimeMillis': '1619453549550',\n",
       "   'modifiedTimeMillis': '1619455677398',\n",
       "   'application': {'packageName': 'com.google.android.apps.fitness'},\n",
       "   'activityType': 21},\n",
       "  {'id': '0c07232b8ac4d889:watch-activemode:walking:1619826808774',\n",
       "   'name': 'Afternoon walk',\n",
       "   'description': '',\n",
       "   'startTimeMillis': '1619826808774',\n",
       "   'endTimeMillis': '1619834454289',\n",
       "   'modifiedTimeMillis': '1619835997396',\n",
       "   'application': {'packageName': 'com.google.android.apps.fitness'},\n",
       "   'activityType': 7},\n",
       "  {'id': '3b9e44d711382023:watch-activemode:walking.treadmill:1620068894525',\n",
       "   'name': 'Lunch treadmill walk',\n",
       "   'description': '',\n",
       "   'startTimeMillis': '1620068894525',\n",
       "   'endTimeMillis': '1620070320832',\n",
       "   'modifiedTimeMillis': '1620073438177',\n",
       "   'application': {'packageName': 'com.google.android.apps.fitness'},\n",
       "   'activityType': 95},\n",
       "  {'id': '3b9e44d711382023:watch-activemode:hiking:1620149741544',\n",
       "   'name': 'Morning hike',\n",
       "   'description': '',\n",
       "   'startTimeMillis': '1620149741544',\n",
       "   'endTimeMillis': '1620152860915',\n",
       "   'modifiedTimeMillis': '1620159756492',\n",
       "   'application': {'packageName': 'com.google.android.apps.fitness'},\n",
       "   'activityType': 35},\n",
       "  {'id': '3b9e44d711382023:watch-activemode:walking:1620086371697',\n",
       "   'name': 'Afternoon walk',\n",
       "   'description': '',\n",
       "   'startTimeMillis': '1620086371697',\n",
       "   'endTimeMillis': '1620090651738',\n",
       "   'modifiedTimeMillis': '1620094709923',\n",
       "   'application': {'packageName': 'com.google.android.apps.fitness'},\n",
       "   'activityType': 7},\n",
       "  {'id': '3b9e44d711382023:watch-activemode:elliptical:1620317842456',\n",
       "   'name': 'Morning elliptical',\n",
       "   'description': '',\n",
       "   'startTimeMillis': '1620317842456',\n",
       "   'endTimeMillis': '1620319460099',\n",
       "   'modifiedTimeMillis': '1620332776290',\n",
       "   'application': {'packageName': 'com.google.android.apps.fitness'},\n",
       "   'activityType': 25}],\n",
       " 'deletedSession': [],\n",
       " 'nextPageToken': 'XmNhoceI9yZx2IjnBjBz'}"
      ]
     },
     "execution_count": 71,
     "metadata": {},
     "output_type": "execute_result"
    }
   ],
   "source": [
    "last_week"
   ]
  },
  {
   "cell_type": "code",
   "execution_count": 75,
   "metadata": {},
   "outputs": [
    {
     "name": "stdout",
     "output_type": "stream",
     "text": [
      "200\n",
      "b'{\\n  \"bucket\": [\\n    {\\n      \"startTimeMillis\": \"1618241849757\",\\n      \"endTimeMillis\": \"1618245502437\",\\n      \"dataset\": [\\n        {\\n          \"dataSourceId\": \"derived:com.google.step_count.delta:com.google.android.gms:aggregated\",\\n          \"point\": [\\n            {\\n              \"startTimeNanos\": \"1618241849757000000\",\\n              \"endTimeNanos\": \"1618245502437000000\",\\n              \"dataTypeName\": \"com.google.step_count.delta\",\\n              \"originDataSourceId\": \"raw:com.google.step_count.cumulative:OnePlus:GM1915:33e928a4fa4b16b3:pedometer  Non-wakeup\",\\n              \"value\": [\\n                {\\n                  \"intVal\": 6248,\\n                  \"mapVal\": []\\n                }\\n              ]\\n            }\\n          ]\\n        }\\n      ]\\n    }\\n  ]\\n}\\n'\n"
     ]
    }
   ],
   "source": [
    "UID = \"me\"\n",
    "OAUTH_TOKEN=\"ya29.a0AfH6SMDaKLr0cqu-AMoL9C7YzsBG89QaTNhC5zVO6sKtjv2BUCfMR920BmYfFHis0crxJj8xWLLbe3KjIRO5WdpVPLpi5eoXx3Wvu3G9H1b6BTgZ6ErJ6vp9Iqyfku2DP_BkTEJOvmNrzWxYOXi4oVSHX_N2Qw\"\n",
    "url = f'https://www.googleapis.com/fitness/v1/users/me/dataset:aggregate'\n",
    "\n",
    "headers = { 'content-type': 'application/json',\n",
    "            'Authorization': 'Bearer %s' % OAUTH_TOKEN}\n",
    "\n",
    "request_body={\n",
    "  \"aggregateBy\": [{\n",
    "    \"dataSourceId\":\n",
    "      \"derived:com.google.step_count.delta:com.google.android.gms:estimated_steps\"\n",
    "  }],\n",
    "  \"bucketByTime\": { \"durationMillis\": 86400000 },\n",
    "  \"startTimeMillis\": '1618241849757',\n",
    "  \"endTimeMillis\": '1618245502437'\n",
    "}\n",
    "\n",
    "\n",
    "r = requests.post(url, headers=headers, json=request_body)\n",
    "\n",
    "print(r.status_code)\n",
    "print(r.content)"
   ]
  },
  {
   "cell_type": "code",
   "execution_count": 77,
   "metadata": {},
   "outputs": [
    {
     "data": {
      "text/plain": [
       "{'bucket': [{'startTimeMillis': '1618241849757',\n",
       "   'endTimeMillis': '1618245502437',\n",
       "   'dataset': [{'dataSourceId': 'derived:com.google.step_count.delta:com.google.android.gms:aggregated',\n",
       "     'point': [{'startTimeNanos': '1618241849757000000',\n",
       "       'endTimeNanos': '1618245502437000000',\n",
       "       'dataTypeName': 'com.google.step_count.delta',\n",
       "       'originDataSourceId': 'raw:com.google.step_count.cumulative:OnePlus:GM1915:33e928a4fa4b16b3:pedometer  Non-wakeup',\n",
       "       'value': [{'intVal': 6248, 'mapVal': []}]}]}]}]}"
      ]
     },
     "execution_count": 77,
     "metadata": {},
     "output_type": "execute_result"
    }
   ],
   "source": [
    "first_session = r.json()\n",
    "first_session"
   ]
  },
  {
   "cell_type": "code",
   "execution_count": null,
   "metadata": {},
   "outputs": [],
   "source": []
  }
 ],
 "metadata": {
  "kernelspec": {
   "display_name": "Python 3",
   "language": "python",
   "name": "python3"
  },
  "language_info": {
   "codemirror_mode": {
    "name": "ipython",
    "version": 3
   },
   "file_extension": ".py",
   "mimetype": "text/x-python",
   "name": "python",
   "nbconvert_exporter": "python",
   "pygments_lexer": "ipython3",
   "version": "3.8.3"
  }
 },
 "nbformat": 4,
 "nbformat_minor": 4
}
